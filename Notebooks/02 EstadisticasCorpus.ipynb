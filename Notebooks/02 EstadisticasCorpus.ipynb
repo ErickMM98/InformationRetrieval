{
 "cells": [
  {
   "cell_type": "markdown",
   "id": "34d85ebc",
   "metadata": {},
   "source": [
    "# Frecuencias de términos y géneros en corpus\n",
    "\n",
    "Una forma de visualizar la distribución de los datos en el corpus es ver cómo se distribuyen los géneros en éste.\n",
    "Para esto, presentamos algunas estadísticas sencillas sobre términos y géneros."
   ]
  },
  {
   "cell_type": "code",
   "execution_count": 1,
   "id": "24cd6031",
   "metadata": {},
   "outputs": [],
   "source": [
    "from glob import glob\n",
    "from re import compile\n",
    "from collections import defaultdict, Counter\n",
    "from itertools import chain\n",
    "import matplotlib.pyplot as plt\n",
    "import numpy as np\n",
    "import pandas as pd"
   ]
  },
  {
   "cell_type": "markdown",
   "id": "b96020e7",
   "metadata": {},
   "source": [
    "### Preparación del corpus\n",
    "\n",
    "#### Tokenización\n",
    "\n",
    "La tokenización es un proceso esencial del pre-procesamiento del corpus. Definimos una función de tokenización que realiza los siguientes pasos:\n",
    "\n",
    "* Pasa el texto a minúsculas.\n",
    "* Elimina símbolos ortográficos.\n",
    "* Separa los tokens por espacios."
   ]
  },
  {
   "cell_type": "code",
   "execution_count": 2,
   "id": "6aaf7638",
   "metadata": {},
   "outputs": [],
   "source": [
    "#Símbolos ortográficos\n",
    "regex = compile('[-_{}(),;:\"#\\/.¡!¿?·]')\n",
    "\n",
    "def tokenize(text):\n",
    "    \"\"\"\n",
    "    Función simple de tokenización por espacios en blanco.\n",
    "    \n",
    "    Arguments\n",
    "    ---------\n",
    "    text : documentos\n",
    "        Lista de documentos que se van a tokenizar.\n",
    "        \n",
    "    Returns\n",
    "    -------\n",
    "    tokens \n",
    "        La lista de los documentos tokenizada.\n",
    "    \"\"\"\n",
    "    #Elimina \\n de más\n",
    "    #Pasa todo a minúscula\n",
    "    lower_text = text.strip().lower()\n",
    "    #Elimina los símbolos ortográficos\n",
    "    alphanumeric = regex.sub('', lower_text)\n",
    "    #Separa por espacios en blanco\n",
    "    tokens = alphanumeric.split()\n",
    "    \n",
    "    return tokens"
   ]
  },
  {
   "cell_type": "markdown",
   "id": "10d2c203",
   "metadata": {},
   "source": [
    "##### Carga del corpus\n",
    "\n",
    "Utilizamos un pequeño corpus de entradas de la Wikipedia, leemos archivo por archivo indicando el directorio en donde se encuentran los documentos."
   ]
  },
  {
   "cell_type": "code",
   "execution_count": 3,
   "id": "5854a56b",
   "metadata": {},
   "outputs": [],
   "source": [
    "#Directorio de los documentos\n",
    "directory = 'wikipedia/'\n",
    "\n",
    "#Guarda diccionario {documento:tokens}\n",
    "tokens = {}\n",
    "for filename in glob(directory+'*'):\n",
    "    #Lee los documentos\n",
    "    text = open(filename,'r').read()\n",
    "    #tokeniza los documentos\n",
    "    tokenized_text = tokenize(text)\n",
    "    #Guarda documentos en diccionario\n",
    "    tokens[filename] = tokenized_text"
   ]
  },
  {
   "cell_type": "markdown",
   "id": "f30053fd",
   "metadata": {},
   "source": [
    "##### Genera tópicos y sus tokens\n",
    "\n",
    "En este caso, los nombres de los documentos contienen los tópicos a los que pertenecen, por lo que usamos estos nombres para guardar los documentos.\n",
    "\n",
    "Cada documentos es de la forma:\n",
    "\n",
    "$$\\text{wikipedia/topico (n).txt}$$\n",
    "\n",
    "En este caso sólo nos quedamos con la información en 'topico' que nos indica el género o tópico al que pertenece. Por cada tópico obtenemos sus tokens."
   ]
  },
  {
   "cell_type": "code",
   "execution_count": 4,
   "id": "de88326a",
   "metadata": {},
   "outputs": [],
   "source": [
    "#Diccionario de tópicos y tokens\n",
    "topics = defaultdict(list)\n",
    "\n",
    "for fname, token_list in tokens.items():\n",
    "    #Tomamos la información del nombre del \n",
    "    #documento que corresponde al tópico al que pertenece.\n",
    "    topic_name = fname[10:][:-8]\n",
    "    #Por cada tópico agregamos la lista de tokens\n",
    "    topics[topic_name].append(token_list)"
   ]
  },
  {
   "cell_type": "markdown",
   "id": "bc955856",
   "metadata": {},
   "source": [
    "Obtenemos la frecuencia absoluta del término, así como las frecuencias $f_{ij}$ del término $i$ en el tópico $j$."
   ]
  },
  {
   "cell_type": "code",
   "execution_count": 5,
   "id": "4bd766df",
   "metadata": {},
   "outputs": [],
   "source": [
    "#Frecuencia absoluta de términos\n",
    "term_frequency = Counter(chain(*chain(*topics.values())))\n",
    "\n",
    "#Frecuencias del termino i en el tópico j\n",
    "topic_frequency = {g: Counter(chain(*token_list)) for g, token_list in topics.items()}"
   ]
  },
  {
   "cell_type": "markdown",
   "id": "5ab0e321",
   "metadata": {},
   "source": [
    "Observamos las palabras más frecuentes y las menos frecuentes:"
   ]
  },
  {
   "cell_type": "code",
   "execution_count": 6,
   "id": "5b3f7b21",
   "metadata": {},
   "outputs": [
    {
     "data": {
      "text/html": [
       "<div>\n",
       "<style scoped>\n",
       "    .dataframe tbody tr th:only-of-type {\n",
       "        vertical-align: middle;\n",
       "    }\n",
       "\n",
       "    .dataframe tbody tr th {\n",
       "        vertical-align: top;\n",
       "    }\n",
       "\n",
       "    .dataframe thead th {\n",
       "        text-align: right;\n",
       "    }\n",
       "</style>\n",
       "<table border=\"1\" class=\"dataframe\">\n",
       "  <thead>\n",
       "    <tr style=\"text-align: right;\">\n",
       "      <th></th>\n",
       "      <th>0</th>\n",
       "    </tr>\n",
       "  </thead>\n",
       "  <tbody>\n",
       "    <tr>\n",
       "      <th>de</th>\n",
       "      <td>7454</td>\n",
       "    </tr>\n",
       "    <tr>\n",
       "      <th>la</th>\n",
       "      <td>4737</td>\n",
       "    </tr>\n",
       "    <tr>\n",
       "      <th>en</th>\n",
       "      <td>3130</td>\n",
       "    </tr>\n",
       "    <tr>\n",
       "      <th>y</th>\n",
       "      <td>2726</td>\n",
       "    </tr>\n",
       "    <tr>\n",
       "      <th>el</th>\n",
       "      <td>2643</td>\n",
       "    </tr>\n",
       "    <tr>\n",
       "      <th>...</th>\n",
       "      <td>...</td>\n",
       "    </tr>\n",
       "    <tr>\n",
       "      <th>judicial</th>\n",
       "      <td>1</td>\n",
       "    </tr>\n",
       "    <tr>\n",
       "      <th>autorizadas</th>\n",
       "      <td>1</td>\n",
       "    </tr>\n",
       "    <tr>\n",
       "      <th>profeta</th>\n",
       "      <td>1</td>\n",
       "    </tr>\n",
       "    <tr>\n",
       "      <th>seqüi</th>\n",
       "      <td>1</td>\n",
       "    </tr>\n",
       "    <tr>\n",
       "      <th>towns</th>\n",
       "      <td>1</td>\n",
       "    </tr>\n",
       "  </tbody>\n",
       "</table>\n",
       "<p>15731 rows × 1 columns</p>\n",
       "</div>"
      ],
      "text/plain": [
       "                0\n",
       "de           7454\n",
       "la           4737\n",
       "en           3130\n",
       "y            2726\n",
       "el           2643\n",
       "...           ...\n",
       "judicial        1\n",
       "autorizadas     1\n",
       "profeta         1\n",
       "seqüi           1\n",
       "towns           1\n",
       "\n",
       "[15731 rows x 1 columns]"
      ]
     },
     "execution_count": 6,
     "metadata": {},
     "output_type": "execute_result"
    }
   ],
   "source": [
    "#Visualización con pandas\n",
    "AbsFreq = pd.DataFrame({term: [f] for term, f in term_frequency.items()}).T\n",
    "AbsFreq.sort_values(by=0, ascending=False)"
   ]
  },
  {
   "cell_type": "markdown",
   "id": "711fff51",
   "metadata": {},
   "source": [
    "#### Tamaño del género\n",
    "\n",
    "El tamaño del género $j$ lo obtenemos como:\n",
    "\n",
    "$$r_j = \\frac{\\sum_i f_{ij}}{\\sum_i t_i}$$\n",
    "Aquí $t_i$ es la frecuencia absoluta del término i."
   ]
  },
  {
   "cell_type": "code",
   "execution_count": 7,
   "id": "a6136d35",
   "metadata": {},
   "outputs": [],
   "source": [
    "#Suma de las frecuencias absolutas de los términos\n",
    "total_term_freq = sum(term_frequency.values())\n",
    "\n",
    "#Diccionario de tamaños de tópicos\n",
    "topic_size =  {}\n",
    "for topic, types in topic_frequency.items():\n",
    "    #Suma de frecuencias de términos en tópicos\n",
    "    freq_topic_j = sum(types.values())\n",
    "    #Tamaño reativo del género\n",
    "    r_j = freq_topic_j/total_term_freq\n",
    "    #Guardamos en el diccionario.\n",
    "    topic_size[topic] = r_j"
   ]
  },
  {
   "cell_type": "markdown",
   "id": "e7fb1428",
   "metadata": {},
   "source": [
    "El tamaño relativo del género nos puede dar información de qué tópicos contiene el corpus y cómo están representados estos. Es una medida de gran utilidad para poder balancear los corpus y obtener datos que representen adecuadamente cada uno de los contenidos de éste."
   ]
  },
  {
   "cell_type": "code",
   "execution_count": 8,
   "id": "fbff9489",
   "metadata": {},
   "outputs": [
    {
     "data": {
      "image/png": "[encoded data removed]",
      "text/plain": [
       "<Figure size 720x216 with 1 Axes>"
      ]
     },
     "metadata": {
      "needs_background": "light"
     },
     "output_type": "display_data"
    }
   ],
   "source": [
    "#Visualización con pandas\n",
    "pd.DataFrame({topic:[size] for topic, size in topic_size.items()}).T.plot.bar(figsize=(10,3))\n",
    "plt.show()"
   ]
  },
  {
   "cell_type": "markdown",
   "id": "85597b14",
   "metadata": {},
   "source": [
    "#### Frecuencia corregida\n",
    "\n",
    "A partir del tamaño de los géneros podemos calcular la frecuencia corregida de los términos que nos da una idea de cómo los términos se distribuyen a partir de los géneros y en el corpus.\n",
    "\n",
    "Esta se calcula como:\n",
    "\n",
    "$$KF_i = \\Big(\\sum_j \\sqrt{r_j f_{ij}} \\Big)^2$$"
   ]
  },
  {
   "cell_type": "code",
   "execution_count": 9,
   "id": "9cbb730b",
   "metadata": {},
   "outputs": [],
   "source": [
    "#Diccionario de frecuencias corregidas\n",
    "corr_freq = {}\n",
    "for term in term_frequency.keys():\n",
    "    #Acumula los valores ponderados\n",
    "    values = 0\n",
    "    for topic, topic_term_freq in topic_frequency.items():\n",
    "        #Suma el cuadrado de los valores ponderados r_j*f_ij\n",
    "        values += np.sqrt(topic_size[topic]*topic_term_freq[term])\n",
    "    #Eleva al cuadrado y guarda\n",
    "    corr_freq[term] = values**2"
   ]
  },
  {
   "cell_type": "code",
   "execution_count": 10,
   "id": "bfc51838",
   "metadata": {},
   "outputs": [
    {
     "data": {
      "text/html": [
       "<div>\n",
       "<style scoped>\n",
       "    .dataframe tbody tr th:only-of-type {\n",
       "        vertical-align: middle;\n",
       "    }\n",
       "\n",
       "    .dataframe tbody tr th {\n",
       "        vertical-align: top;\n",
       "    }\n",
       "\n",
       "    .dataframe thead th {\n",
       "        text-align: right;\n",
       "    }\n",
       "</style>\n",
       "<table border=\"1\" class=\"dataframe\">\n",
       "  <thead>\n",
       "    <tr style=\"text-align: right;\">\n",
       "      <th></th>\n",
       "      <th>0</th>\n",
       "    </tr>\n",
       "  </thead>\n",
       "  <tbody>\n",
       "    <tr>\n",
       "      <th>de</th>\n",
       "      <td>7416.162435</td>\n",
       "    </tr>\n",
       "    <tr>\n",
       "      <th>la</th>\n",
       "      <td>4635.940860</td>\n",
       "    </tr>\n",
       "    <tr>\n",
       "      <th>en</th>\n",
       "      <td>3082.431877</td>\n",
       "    </tr>\n",
       "    <tr>\n",
       "      <th>y</th>\n",
       "      <td>2677.544799</td>\n",
       "    </tr>\n",
       "    <tr>\n",
       "      <th>el</th>\n",
       "      <td>2600.668091</td>\n",
       "    </tr>\n",
       "    <tr>\n",
       "      <th>...</th>\n",
       "      <td>...</td>\n",
       "    </tr>\n",
       "    <tr>\n",
       "      <th>maternal</th>\n",
       "      <td>0.004386</td>\n",
       "    </tr>\n",
       "    <tr>\n",
       "      <th>coespecializción</th>\n",
       "      <td>0.004386</td>\n",
       "    </tr>\n",
       "    <tr>\n",
       "      <th>bacteriocitas</th>\n",
       "      <td>0.004386</td>\n",
       "    </tr>\n",
       "    <tr>\n",
       "      <th>hospedan</th>\n",
       "      <td>0.004386</td>\n",
       "    </tr>\n",
       "    <tr>\n",
       "      <th>amparo</th>\n",
       "      <td>0.004386</td>\n",
       "    </tr>\n",
       "  </tbody>\n",
       "</table>\n",
       "<p>15731 rows × 1 columns</p>\n",
       "</div>"
      ],
      "text/plain": [
       "                            0\n",
       "de                7416.162435\n",
       "la                4635.940860\n",
       "en                3082.431877\n",
       "y                 2677.544799\n",
       "el                2600.668091\n",
       "...                       ...\n",
       "maternal             0.004386\n",
       "coespecializción     0.004386\n",
       "bacteriocitas        0.004386\n",
       "hospedan             0.004386\n",
       "amparo               0.004386\n",
       "\n",
       "[15731 rows x 1 columns]"
      ]
     },
     "execution_count": 10,
     "metadata": {},
     "output_type": "execute_result"
    }
   ],
   "source": [
    "KF = pd.DataFrame({term: [kf] for term, kf in corr_freq.items()}).T\n",
    "KF.sort_values(by=0, ascending=False)"
   ]
  },
  {
   "cell_type": "code",
   "execution_count": 11,
   "id": "8c65cba6",
   "metadata": {},
   "outputs": [
    {
     "name": "stdout",
     "output_type": "stream",
     "text": [
      "0    55.0664\n",
      "Name: historia, dtype: float64 \n",
      " 0    102\n",
      "Name: historia, dtype: int64\n"
     ]
    }
   ],
   "source": [
    "print(KF.loc['historia'],'\\n',AbsFreq.loc['historia'])"
   ]
  },
  {
   "cell_type": "markdown",
   "id": "e9585cb2",
   "metadata": {},
   "source": [
    "    "
   ]
  }
 ],
 "metadata": {
  "kernelspec": {
   "display_name": "Python 3",
   "language": "python",
   "name": "python3"
  },
  "language_info": {
   "codemirror_mode": {
    "name": "ipython",
    "version": 3
   },
   "file_extension": ".py",
   "mimetype": "text/x-python",
   "name": "python",
   "nbconvert_exporter": "python",
   "pygments_lexer": "ipython3",
   "version": "3.8.8"
  }
 },
 "nbformat": 4,
 "nbformat_minor": 5
}
