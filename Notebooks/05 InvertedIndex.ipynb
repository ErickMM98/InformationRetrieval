{
 "cells": [
  {
   "cell_type": "markdown",
   "id": "1c98fbc3",
   "metadata": {},
   "source": [
    "# Índice invertido en RI\n",
    "\n",
    "Utilizar una matriz de incidencia para realizar búsqueda y recuperación de información en una colección tiene el incoveniente de requerir mayor memoria cuando la colección es muy grande. Para lidiar con esto, se propone eliminar los 0s, obteniendo un diccionario más eficiente de términos y documentos.\n",
    "\n",
    "El <b>índice ivertido</b> asocia a cada término los documentos en los que aparece a partir de un identificador de documento. Esto evita utilizar 0s y hace más eficientes las búsqueda. Pero también requiere de una reformulación de los operadores booleanos.\n",
    "\n",
    "A continuación mostramos una implementación de un modelo booleano basado en el índice invertido."
   ]
  },
  {
   "cell_type": "code",
   "execution_count": 1,
   "id": "83c186b0",
   "metadata": {},
   "outputs": [],
   "source": [
    "from glob import glob\n",
    "from re import compile\n",
    "from collections import defaultdict, Counter\n",
    "from itertools import chain\n",
    "import numpy as np\n",
    "import pandas as pd"
   ]
  },
  {
   "cell_type": "markdown",
   "id": "8e27f32e",
   "metadata": {},
   "source": [
    "#### Función de tokenización\n",
    "\n",
    "Definimos una función de tokenización muy simple que toma como token todos los elementos entre espacios en blanco, eliminando los signos no alfanuméricos."
   ]
  },
  {
   "cell_type": "code",
   "execution_count": 2,
   "id": "ca1ddd37",
   "metadata": {},
   "outputs": [],
   "source": [
    "regex = compile('[-_{}(),;:\"#\\/.¡!¿?·]')\n",
    "def tokenize(text):\n",
    "    \"\"\"\n",
    "    Función de tokenización.\n",
    "    \n",
    "    Arguments\n",
    "    ---------\n",
    "    text : str\n",
    "        Cadena de texto que se tokenizará\n",
    "        \n",
    "    Returns\n",
    "    -------\n",
    "    tokens : list\n",
    "        Lista de tokens\n",
    "    \"\"\"\n",
    "    #Pasa a minúsculas\n",
    "    lower_text = text.strip().lower()\n",
    "    #Elimina símbolos no alfanuméricos\n",
    "    alphanumeric = regex.sub('', lower_text)\n",
    "    #Obtiene tokens por espacios en blanco\n",
    "    tokens = alphanumeric.split()\n",
    "    \n",
    "    return tokens"
   ]
  },
  {
   "cell_type": "markdown",
   "id": "6943f389",
   "metadata": {},
   "source": [
    "### Intersección para operador AND\n",
    "\n",
    "En la búsqueda booleana con listas de <i>posting</i>, los operadores booleanos deben aplicarse sobre conjunto. En el caso de AND este corresponde a una instersección de los conjuntos. Por tanto definimos una función que permita intersectar dos conjuntos. \n",
    "\n",
    "Esta función la ocuparemos en el modelo a partir de realizar búsquedas ordenadas para hacer más eficientes las búsquedas con operadores AND."
   ]
  },
  {
   "cell_type": "code",
   "execution_count": 3,
   "id": "5b515e87",
   "metadata": {},
   "outputs": [],
   "source": [
    "def intersect(a,b):\n",
    "    \"\"\"\n",
    "    Función de intersección entre dos conjuntos.\n",
    "    \n",
    "    Arguments\n",
    "    ---------\n",
    "    a,b : array\n",
    "        Conjuntos que se van a intersectar.\n",
    "        \n",
    "    Returns\n",
    "    -------\n",
    "        Conjunto que contiene los elementos que se intersectan.\n",
    "    \"\"\"\n",
    "    #Guarda los resultados\n",
    "    result = []\n",
    "    #Inicia los índices\n",
    "    i,j = 0,0\n",
    "    #Recorre los conjuntos\n",
    "    while i < len(a) and j < len(b):\n",
    "        if a[i] == b[j]:\n",
    "            #Si contiene los mismos elementos\n",
    "            #agrega a la lista de intersecciones\n",
    "            result.append(a[i])\n",
    "            i += 1\n",
    "            j += 1\n",
    "            \n",
    "        elif a[i] < b[j]:\n",
    "            #Avanza en la primera lista\n",
    "            i += 1\n",
    "            \n",
    "        else:\n",
    "            #Avanza en la segunda lsita\n",
    "            j += 1\n",
    "            \n",
    "    return result"
   ]
  },
  {
   "cell_type": "markdown",
   "id": "3aa4a02c",
   "metadata": {},
   "source": [
    "## Modelo booleano con índice invertido\n",
    "\n",
    "El modelo booleano que definimos se basa en el índice invertido. Dada una colección (guardada en un directori) el modelo crea un diccionario de términos en que cada término está asociado a una lista de posting; esta lista contiene los identificadores de documentos que pertenecen a los documentos en que dicho término aparece.\n",
    "\n",
    "A partir del índice invertido podemos realizar búsquedas con operadores booleanos: OR, NOT, AND. Definimos las funciones que relizan estos operadores como operadores entre conjuntos. "
   ]
  },
  {
   "cell_type": "code",
   "execution_count": 4,
   "id": "2f9ef354",
   "metadata": {},
   "outputs": [],
   "source": [
    "class BooleanModel(object):\n",
    "    \"\"\"\n",
    "    Clase para crear modelo de recuperación booleana sobre una colección \n",
    "    de documentos.\n",
    "    \n",
    "    docs_idx : dict\n",
    "        Dictionario que guarda los documentos y sus índices\n",
    "    terms : list\n",
    "        Lista de términos\n",
    "    documentos : list\n",
    "        Lista de documentos\n",
    "    collection : dict\n",
    "        Diccionario de índices de documentos y su lista de tokens\n",
    "    incidence_matriz : array\n",
    "        Matriz de incidencia término documento\n",
    "    \"\"\"\n",
    "    def __init__(self):\n",
    "        self.docIDs = {}\n",
    "        self.terms = []\n",
    "        self.documents = []\n",
    "        self.tokens = {}\n",
    "        self.dictionary = defaultdict(list)\n",
    "        self.terms_frequency = None\n",
    "    \n",
    "    def get_documents(self,directory):\n",
    "        \"\"\"\n",
    "        Función para obtener la colección de documentos a partir de un directorio con archivos.\n",
    "        \n",
    "        Arguments\n",
    "        ---------\n",
    "        directory : str\n",
    "            Directorio donde se encuentran guardados los documentos\n",
    "        \"\"\"\n",
    "        #Inicializa índicex\n",
    "        docID = 0\n",
    "        tokens = {}\n",
    "        for filename in glob(directory+'*'):\n",
    "            text = open(filename,'r').read()\n",
    "            tokenized_text = tokenize(text)\n",
    "            self.docIDs[docID] = filename\n",
    "            sorted_types = list(sorted(set(tokenized_text)))\n",
    "            self.tokens[docID] = sorted_types\n",
    "            docID += 1\n",
    "            \n",
    "        #Crea la lsita de términos\n",
    "        self.terms = list(set(chain(*self.tokens.values())))\n",
    "        #Crea lista de documentos\n",
    "        self.documents = list(self.docIDs.values())\n",
    "        #Frecuencia de términos\n",
    "        self.terms_frequency = Counter(chain(*self.tokens.values()))\n",
    "        \n",
    "    def build_inverse_index(self, directory):\n",
    "        \"\"\"\n",
    "        Función para la creación de la matriz de incidencia.\n",
    "        \n",
    "        Arguments\n",
    "        ---------\n",
    "        directory : str\n",
    "            Directorio donde se encuentran guardados los documentos\n",
    "            \n",
    "        Returns\n",
    "        -------\n",
    "            Matriz de incidencia\n",
    "        \"\"\"\n",
    "        #Crea la colección a partir de directorio\n",
    "        self.get_documents(directory)\n",
    "        \n",
    "        for docID, term_list in self.tokens.items():\n",
    "            for term in term_list:\n",
    "                self.dictionary[term].append(docID) \n",
    "    \n",
    "    def AND(self, terminos):\n",
    "        \"\"\"\n",
    "        Función para intersectar (operador AND) un conjunto de posting perteneciente a una lista larga de queries.\n",
    "\n",
    "        Arguments\n",
    "        ---------\n",
    "        terminos : list\n",
    "            Lista de términos para recuperar.\n",
    "\n",
    "        Returns\n",
    "        \"\"\"\n",
    "        #Ordena los términos por su frecuencia de menor a mayor\n",
    "        terms = sorted([t for t in terminos], key=lambda t: self.terms_frequency[t])\n",
    "        #Posting del término con menor frecuencia\n",
    "        result = self.dictionary[terms[0]]\n",
    "        #El resto de los términos\n",
    "        terms.remove(terms[0])\n",
    "\n",
    "        while terms != [] and result != []:\n",
    "            #Intersecta los posting de términos\n",
    "            result = intersect(result, self.dictionary[terms[0]])\n",
    "            #Elimina los terminos ya intersectados\n",
    "            terms.remove(terms[0])\n",
    "\n",
    "        #Regresa los documentos que contienen\n",
    "        #todos los términis\n",
    "        for docID in result:\n",
    "            yield self.docIDs[docID]  \n",
    "            \n",
    "    def NOT(self, term):\n",
    "        \"\"\"\n",
    "        Función NOT bolleana en una lista de posting.\n",
    "        \n",
    "        Arguments\n",
    "        ---------\n",
    "        term : str\n",
    "            Término sobre el que se aplica el NOT.\n",
    "            \n",
    "        Returns\n",
    "        -------\n",
    "            Documentos que corresponden al operador NOT: aquellos donde no aparece el término.\n",
    "        \"\"\"\n",
    "        for docID, doc in self.docIDs.items():\n",
    "            #Compara los docIDs del término con los documentos de la colección,\n",
    "            #agrega los elementos de la colección que no pertenecen al término\n",
    "            if docID not in self.dictionary[term]:\n",
    "                yield doc\n",
    "                \n",
    "    def OR(self, terminos):\n",
    "        \"\"\"\n",
    "        Función NOT bolleana en una lista de posting.\n",
    "        \n",
    "        Arguments\n",
    "        ---------\n",
    "        terminos : list[str]\n",
    "            Lista de términos con los que se hará la operación OR.\n",
    "            \n",
    "        Returns\n",
    "        -------\n",
    "            Documentos que contienen uno o más términos.\n",
    "        \"\"\"\n",
    "        #Une los documentos de cada términos\n",
    "        for docID in chain(*[self.dictionary[t] for t in terminos]):\n",
    "            yield self.docIDs[docID]"
   ]
  },
  {
   "cell_type": "markdown",
   "id": "0db6bb39",
   "metadata": {},
   "source": [
    "### Ejemplo de búsqueda booleana con índice invertido\n",
    "\n",
    "Podemos utilizar la clase del modelo booleano que construimos para aplicarla a una colección en concreto. Como vemos, el diccionario del índice invertido guarda una serie de índices de documentos para cada término."
   ]
  },
  {
   "cell_type": "code",
   "execution_count": 5,
   "id": "da775980",
   "metadata": {},
   "outputs": [
    {
     "name": "stdout",
     "output_type": "stream",
     "text": [
      "[2, 5, 22, 24, 28, 30, 38, 43, 51, 64, 72, 87, 91, 92, 99]\n"
     ]
    }
   ],
   "source": [
    "#Directorio de la colección\n",
    "directory = 'wikipedia/'\n",
    "\n",
    "#Creación del modelo\n",
    "model = BooleanModel()\n",
    "#Genera el índice invertido\n",
    "model.build_inverse_index(directory)\n",
    "\n",
    "#Imprime una entrada del diccionario\n",
    "print(model.dictionary['campo'])\n",
    "#print(model.documents)"
   ]
  },
  {
   "cell_type": "markdown",
   "id": "f05c12a5",
   "metadata": {},
   "source": [
    "Finalmente, podemos ver cómo funciona cada uno de los operadores booleanos en este tipo de modelo con índice invertido:"
   ]
  },
  {
   "cell_type": "code",
   "execution_count": 6,
   "id": "e39b129c",
   "metadata": {},
   "outputs": [
    {
     "name": "stdout",
     "output_type": "stream",
     "text": [
      "wikipedia/economia (1).txt\n"
     ]
    }
   ],
   "source": [
    "#Operador AND para un conjunto de términos\n",
    "for doc in model.AND(['campo','política','de', 'campesinos']):\n",
    "    print(doc)"
   ]
  },
  {
   "cell_type": "code",
   "execution_count": 7,
   "id": "571ec8c2",
   "metadata": {},
   "outputs": [
    {
     "name": "stdout",
     "output_type": "stream",
     "text": [
      "wikipedia/perro (1).txt\n",
      "wikipedia/religion (2).txt\n",
      "wikipedia/amor (1).txt\n",
      "wikipedia/cuantica (1).txt\n",
      "wikipedia/deporte (1).txt\n",
      "wikipedia/sociedad (5).txt\n",
      "wikipedia/sacarosa (2).txt\n",
      "wikipedia/coca (1).txt\n",
      "wikipedia/celula (1).txt\n"
     ]
    }
   ],
   "source": [
    "#Operador NOT\n",
    "for doc in model.NOT('del'):\n",
    "    print(doc)"
   ]
  },
  {
   "cell_type": "code",
   "execution_count": 8,
   "id": "13e149b3",
   "metadata": {},
   "outputs": [
    {
     "name": "stdout",
     "output_type": "stream",
     "text": [
      "wikipedia/bioinfo (1).txt\n",
      "wikipedia/ciencia_historia (1).txt\n",
      "wikipedia/sociedad (2).txt\n",
      "wikipedia/condensador (2).txt\n",
      "wikipedia/politica (1).txt\n",
      "wikipedia/capoeira (2).txt\n",
      "wikipedia/cuantica (1).txt\n",
      "wikipedia/condensador (4).txt\n",
      "wikipedia/ifai (2).txt\n",
      "wikipedia/mate (2).txt\n",
      "wikipedia/sociedad (1).txt\n",
      "wikipedia/economia (1).txt\n",
      "wikipedia/economia (2).txt\n",
      "wikipedia/bioinfo (2).txt\n",
      "wikipedia/condensador (3).txt\n",
      "wikipedia/economia (1).txt\n"
     ]
    }
   ],
   "source": [
    "#Operador OR para un conjunto de términos\n",
    "for doc in model.OR(['campo','campesinos']):\n",
    "    print(doc)"
   ]
  },
  {
   "cell_type": "markdown",
   "id": "d1dd5aaf",
   "metadata": {},
   "source": [
    "     "
   ]
  }
 ],
 "metadata": {
  "kernelspec": {
   "display_name": "Python 3",
   "language": "python",
   "name": "python3"
  },
  "language_info": {
   "codemirror_mode": {
    "name": "ipython",
    "version": 3
   },
   "file_extension": ".py",
   "mimetype": "text/x-python",
   "name": "python",
   "nbconvert_exporter": "python",
   "pygments_lexer": "ipython3",
   "version": "3.8.8"
  }
 },
 "nbformat": 4,
 "nbformat_minor": 5
}
