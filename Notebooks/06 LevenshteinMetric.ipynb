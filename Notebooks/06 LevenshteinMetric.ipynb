{
 "cells": [
  {
   "cell_type": "markdown",
   "id": "00fb098e",
   "metadata": {},
   "source": [
    "# Distancia de Levenshtein\n",
    "\n",
    "La distancia de Levenshtein es una métrica entre cadenas definida por Vladimir Levenshtein en 1965. Dada un alfabeto $\\Sigma$, la distancia de Levenshtein es una función $lev: \\Sigma^* \\times \\Sigma^* \\to \\mathbb{R}^+$. Es decir, es uan función que toma dos cadenas y regresa un número positivo, que puede considerarse como una distancia entre las cadenas.\n",
    "\n",
    "La distancia de Levenshtein se define a partir de <b>ediciones</b>. Una edición puede entenderse como un cambio que se da entre las dos cadenas. En general, se consideran tres tipos de ediciones:\n",
    "\n",
    "* Inserción: En una cadena $a = c_1 ...c_i ...c_T$ (de longitud $T$) se inserta el símbolo $x$ en la posición $i+1$ cuando este símbolo se agrega el símbolo después de $c_i$; se obtiene la cadena $b = c_1...c_i x...c_T$ (de longitud $T+1$).\n",
    "* Eliminación: Dada la cadena $a = c_1...c_i...c_T$ (de longitud $T$) se elimna el símbolo $c_i$ obteniendo la cadena $b = c_1...c_{i-1}c_{i+1}...c_T$ (de longitud $T-1$).\n",
    "* Sustitución: En la cadena $a = c_1...c_i...c_T$ (de longitud $T$) se sustituye el símbolo $c_i$ por $x$ obteniendo la cadena $b = c_1...c_{i-1} x c_{i+1}...c_T$ (de longitud $T$).\n",
    "\n",
    "Toda cadena $a \\in \\Sigma^*$ puede transformarse en otra cadena $b \\in \\Sigma^*$ a partir de aplicar ediciones a la primera cadena hasta obtener la segunda. La distancia de Levenshtein es entonces el número mínimo de ediciones que necesitamos para convertir una cadena en otra. Es decir:\n",
    "\n",
    "$$lev(a,b) = \\min\\{|edit| : edit(a) = b\\}$$\n",
    "\n",
    "Donde $edit$ es un conjunto de ediciones que aplicadas a la cadena $a$ la convierten en $b$. Se puede notar que la distancia de Levenshtein es una métrica sobre el espacio de las cadenas; es decir, cumple los siguientes postulados:\n",
    "\n",
    "1. $lev(a,b) \\geq 0$; además, $lev(a,b) = 0$ si y sólo si $a=b$.\n",
    "2. $lev(a,b) = lev(b,a)$; esto implica que toda edición tiene una inversa que es también una edición.\n",
    "3. $lev(a,b) \\leq lev(a,c) + lev(c,b)$ para algún $c \\in \\Sigma^*$. Esta propiedad se conoce como desigualdad triangular."
   ]
  },
  {
   "cell_type": "markdown",
   "id": "713ded26",
   "metadata": {},
   "source": [
    "## Algoritmo de Wagner-Fischer\n",
    "\n",
    "Existen diferentes formas de calcular la distancia de Levenshtein computacionalmente. El algoritmo de Wagner-Fischer es un algoritmo que permite calcular la distancia de Levenshtein a partir de crear una matriz donde los renglones son los símbolos en la cadena de mayor longitud y las columnas los símbolos de la cadena de menor longitud.\n",
    "\n",
    "La idea del algoritmo de Wagner-Fischer puede resumirse de la siguiente forma:\n",
    "\n",
    "0. Input: dos cadenas $a$ y $b$, donde $a$ tiene mayor longitud. Sus slongitudes serán $|a| = T_1$ y $|b| = T_2$.\n",
    "1. Iniciación: Se considera la matriz $M$ de tamaño $(T_1+1) \\times (T_2+1)$ tal que $M[i,j]$ es una entrada en el renglón $i$ y la columna $j$\n",
    "2. Se crea un renglón con los valores de 0 a $T_2$. Estos valores representan las posiciones de los símbolos en $b$ más un valor 0 que se alinea con el inicio de $b$ (no corresponde a ningún símbolo). Véase la tabla abajo. \n",
    "3. Se crea una columna con los valores de 0 a $T_1$. Estos valores representan las posiciones de los símbolos en $a$ más un valor 0 que se alinea con el inicio de $a$ (no corresponde a ningún símbolo). Véase la tabla abajo. Con el paso 2 y 3 se ve que el primer renglón y la primera columna se llenan con valores de la longitud de las cadenas.\n",
    "4. En cada posición $i$ de $a$ y $j$ de $b$, se toman los valores de ediciones observando las entradas alrededor de la posición actual (el renglón y las columnas previas. Estos valores son:\n",
    "    * Inserción: $M[i-1,j]+1$ (se observa el valor del renglón anterior en la columna actual y se le suma 1 a este valor).\n",
    "    * Eliminación: $M[i,j-1]+1$ (se observa el valor en el renglón actual y la columna anterior y se le suma 1 a este valor).\n",
    "    * Substitución: $M[i-1,j-1]+\\delta_{c_i \\neq c_j}$ (se observa el valor de la columna y el renglón anterior y se le suma 1 si los símbolos son diferentes o 0 si son iguales).\n",
    "5. Cada entrada del la matriz $M$ se llena con el valor de la edición más pequeña; esto es: $$M[i,j] = \\min(M[i-1,j]+1, M[i,j-1]+1, M[i-1,j-1]+\\delta_{c_i \\neq c_j})$$ para $i,j \\geq 1$.\n",
    "\n",
    "En la siguiente tabla se muestra la matriz creada; denotamos el mínimo de las ediciones como $\\min(i,j)$ para abreviar.\n",
    "\n",
    "| |  | $b_1$ | $b_2$ | ... | $b_{T_2}$ |\n",
    "| --- | --- | --- | --- | --- | --- |\n",
    "|  | $0$ | $1$ | $2$ | ... | $T_2$ |\n",
    "| $a_1$  | $1$ | $\\min(1,1)$ | $\\min(1,2)$ | ... | $\\min(1,T_2)$ |\n",
    "| $a_2$  | $2$ | $\\min(2,1)$ | $\\min(2,2)$ | ... | $\\min(2,T_2)$ |\n",
    "| $\\vdots$  | $\\vdots$ | $\\vdots$ | $\\vdots$ | ... | $\\vdots$ |\n",
    "| $a_{T_1}$  | $T_1$ | $\\min(T_1,1)$ | $\\min(T_1,2)$ | ... | $\\min(T_1,T_2)$ |\n",
    "\n",
    "Para terminar, la distancia de levenshtein será el valor $M[T_1,T_2] = \\min(M[T_1-1,T_2]+1, M[T_1,T_2-1]+1, M[T_1-1,T_2-1]+\\delta_{c_{T_1} \\neq c_{T_2}})$ "
   ]
  },
  {
   "cell_type": "markdown",
   "id": "d8e919ce",
   "metadata": {},
   "source": [
    "### Ejemplo:\n",
    "\n",
    "Considérense las palabras $sol$ y $sal$. Tenemos primero que establecer la columna 0 con los valores 0 1 2 3 y el renglón 0 con los valores 0 1 2 3 correspondientes a las longitudes de las palabras (más un inicial 0):\n",
    "\n",
    "| | |  s | o | l |\n",
    "| --- | --- | --- | --- | --- |\n",
    "|  | 0 | 1 | 2 | 3 |\n",
    "| s  | 1 |  |  | |\n",
    "| a  | 2 |  |  |  |  |\n",
    "| l  | 3 |  |  |  |\n",
    "\n",
    "Cuando $i = 1 = j$ tenemos: \n",
    "\n",
    "1. Inserción $M[1-1, 1] = M[0,1] = 1$ (el valor del renglón 0 en la columna 1. Sumando 1, tenemos que la inserción es 2.\n",
    "2. Eliminación: $M[1, 1-1] = M[1,0] = 1$ (el valor del renglón 0 en la columna 1. Sumando 1, tenemos que la inserción es 2.\n",
    "3. Substitución: $M[1-1,1-1] = M[0,0] = 0$ (el valor del renglón 0 en la columna 0) y ya que $s = s$ (los símbolos son iguales en esta posición, tenemos que el valor final es 0.\n",
    "     \n",
    "Una vez calculado los valores de las ediciones elejimos el mínimo, esto es $\\min(2,2,0) = 0$. Por tanto el valor de la matriz en la posición $M[1,1] = 0$\n",
    "\n",
    "Podemos hacer el mismo procedimiento recorriendo el renglón 1 en las diferentes columnas. Veremos que este primer renglón tiene los valores 1, 2 y 3. Con estos nuevos valores podemos pasar al siguiente renglón.\n",
    "\n",
    "Cuando $i=2$ y $j1$, tenemos las siguientes ediciones:\n",
    "     \n",
    "1. Inserción $M[2-1, 1] + 1 = M[1,1] + 1 = 0 + 1 = 1$\n",
    "2. Eliminación: $M[2, 1-1] + 1 = M[2,0] + 1 = 2+1 = 3$ \n",
    "3. Substitución: $M[2-1,1-1] + \\delta_{a\\neq o} = M[1,0] + \\delta_{a\\neq s} = 1 + 1 = 2$  ya que $a \\neq s$.\n",
    "\n",
    "Tomando el mínimo, tenemos que $M[2,1] = 1$.\n",
    "\n",
    "La siguiente tabla muestra los valores que se obtienen al correr el algoritmo.\n",
    "\n",
    "| | |  s | o | l |\n",
    "| --- | --- | --- | --- | --- |\n",
    "|  | 0 | 1 | 2 | 3 |\n",
    "| s  | 1 | 0 | 1 | 2 |\n",
    "| a  | 2 | 1 | 1 | 2 |\n",
    "| l  | 3 | 2 | 2 | 1 |\n",
    "\n",
    "El valor que nos interesa es $M[3,3]$ que es la distancia de Levenshtein, podemos ver que este valor se calcula por las siguientes ediciones: 1) Inserción: $M[2,3]+1 = 3$; 2) Eliminación: $M[3,2]+1 = 3$; y 3) Substitución: $M[2,2] + 0 = 1$ (pues los símbolos son ambos l). Por tanto, el valor de esta entrada $\\min(3,3,1) = 1$. Que es la distancia de Levenshtein entre estas dos cadenas. Es decir:\n",
    "\n",
    "$$lev(sal, sol) = 1$$\n",
    "\n",
    "Esto implica que el número de ediciones mínimo para pasar de la palabra \"sal\" a \"sol\" es 1. De hecho vemos que esta edición es la substitución de \"a\" por \"o\"."
   ]
  },
  {
   "cell_type": "markdown",
   "id": "62a0e162",
   "metadata": {},
   "source": [
    "## Implementación\n",
    "\n",
    "Una vez entendido el algoritmo de Wagner-Fisher para calcular la distancia de Levenshtein, podemos implementarla en Python. La siguiente función define la distancia de Levenshtein."
   ]
  },
  {
   "cell_type": "code",
   "execution_count": 1,
   "id": "638c8ef6",
   "metadata": {},
   "outputs": [],
   "source": [
    "def lev(s1, s2):\n",
    "    #Se asume que el primer argumento\n",
    "    #siempre tiene la mayor longitud\n",
    "    #Si no es así, se invierten los argumentos\n",
    "    if len(s1) < len(s2):\n",
    "        return lev(s2, s1)\n",
    " \n",
    "    #Si s2 es la cadena epsilon,\n",
    "    #se toma la distancia como la longitud de s1\n",
    "    if len(s2) == 0:\n",
    "        return len(s1)\n",
    " \n",
    "    #Posiciones de s2 de 0 a |s2|+1\n",
    "    previous_row = range(len(s2) + 1)\n",
    "    #Revisa cada símbolo (y su posición) en s1\n",
    "    for i, c1 in enumerate(s1):\n",
    "        #Guarda la posición actual\n",
    "        current_row = [i + 1]\n",
    "        #Revisa cada símbolo (y su posición) en s2\n",
    "        for j, c2 in enumerate(s2):\n",
    "            #REVISA TIPOS DE EDICIONES\n",
    "            #Observa si hay eliminación\n",
    "            insertions = previous_row[j + 1] + 1\n",
    "            #Observa si hay una eliminación\n",
    "            deletions = current_row[j] + 1\n",
    "            #Si c1 es diferente de c2, es porque hay substitución\n",
    "            substitutions = previous_row[j] + (c1 != c2)\n",
    "            \n",
    "            #Determina el edit más pequeño\n",
    "            minimum_edit = min(insertions, deletions, substitutions)\n",
    "            #Agrega este edit a current_row ()\n",
    "            current_row.append(minimum_edit)\n",
    "            \n",
    "        #En la actual posición en s1, se iguala\n",
    "        #previous_row con current_row\n",
    "        previous_row = current_row\n",
    " \n",
    "    #Regresa el último elemento de el último renglón\n",
    "    #Este es el número más pequeño de ediciones\n",
    "    return previous_row[-1]"
   ]
  },
  {
   "cell_type": "markdown",
   "id": "c7001ca5",
   "metadata": {},
   "source": [
    "Podemos entonces calcular la distancia entre \"sal\" y \"sol\"."
   ]
  },
  {
   "cell_type": "code",
   "execution_count": 2,
   "id": "98fbbf05",
   "metadata": {},
   "outputs": [
    {
     "data": {
      "text/plain": [
       "2"
      ]
     },
     "execution_count": 2,
     "metadata": {},
     "output_type": "execute_result"
    }
   ],
   "source": [
    "lev('sol','sal')"
   ]
  },
  {
   "cell_type": "markdown",
   "id": "49a40dec",
   "metadata": {},
   "source": [
    "### Espacio de cadenas\n",
    "\n",
    "Cuando a un conjunto se le dota de una métrica se puede construir un espacio. Podemos hacer eso con un conjunto de cadenas y la distancia de Levenshtein. Para esto, usaremos el método de Escalamiento Multidimensional, que proyecto los elementos de un conjunto a un espacio vectoria con base en las distancias que existen entre los elementos."
   ]
  },
  {
   "cell_type": "code",
   "execution_count": 3,
   "id": "7b29b887",
   "metadata": {},
   "outputs": [],
   "source": [
    "import numpy as np\n",
    "import pandas as pd\n",
    "import matplotlib.pyplot as plt\n",
    "from sklearn.manifold import MDS\n",
    "\n",
    "#Función para plotear en dos dimensiones con etiquetas\n",
    "def plot_words(X,ids):\n",
    "    r=0\n",
    "    plt.scatter(X[:,0],X[:,1], marker='o', c='blue')\n",
    "    for label,x,y in zip(ids, X[:,0], X[:,1]):\n",
    "        plt.annotate(label, xy=(x,y), xytext=(-1,1), textcoords='offset points', ha='center', va='bottom')\n",
    "        r+=1"
   ]
  },
  {
   "cell_type": "markdown",
   "id": "68de6814",
   "metadata": {},
   "source": [
    "En primer lugar, calculamos una matriz de distancias, que nos da el valor de la distancia entre cada dos elementos del conjunto, en este caso cadenas de palabras. Como se observa, la matriz es simétrica, pues la distancia de Levenshtein, en tanto métrica, es simétrica."
   ]
  },
  {
   "cell_type": "code",
   "execution_count": 4,
   "id": "77f06ee8",
   "metadata": {},
   "outputs": [
    {
     "data": {
      "text/html": [
       "<div>\n",
       "<style scoped>\n",
       "    .dataframe tbody tr th:only-of-type {\n",
       "        vertical-align: middle;\n",
       "    }\n",
       "\n",
       "    .dataframe tbody tr th {\n",
       "        vertical-align: top;\n",
       "    }\n",
       "\n",
       "    .dataframe thead th {\n",
       "        text-align: right;\n",
       "    }\n",
       "</style>\n",
       "<table border=\"1\" class=\"dataframe\">\n",
       "  <thead>\n",
       "    <tr style=\"text-align: right;\">\n",
       "      <th></th>\n",
       "      <th>sal</th>\n",
       "      <th>sol</th>\n",
       "      <th>hola</th>\n",
       "      <th>bola</th>\n",
       "      <th>de</th>\n",
       "      <th>amor</th>\n",
       "      <th>gatos</th>\n",
       "      <th>niñas</th>\n",
       "      <th>ratos</th>\n",
       "    </tr>\n",
       "  </thead>\n",
       "  <tbody>\n",
       "    <tr>\n",
       "      <th>sal</th>\n",
       "      <td>0.0</td>\n",
       "      <td>1.0</td>\n",
       "      <td>3.0</td>\n",
       "      <td>3.0</td>\n",
       "      <td>3.0</td>\n",
       "      <td>4.0</td>\n",
       "      <td>4.0</td>\n",
       "      <td>4.0</td>\n",
       "      <td>4.0</td>\n",
       "    </tr>\n",
       "    <tr>\n",
       "      <th>sol</th>\n",
       "      <td>1.0</td>\n",
       "      <td>0.0</td>\n",
       "      <td>2.0</td>\n",
       "      <td>2.0</td>\n",
       "      <td>3.0</td>\n",
       "      <td>3.0</td>\n",
       "      <td>4.0</td>\n",
       "      <td>5.0</td>\n",
       "      <td>4.0</td>\n",
       "    </tr>\n",
       "    <tr>\n",
       "      <th>hola</th>\n",
       "      <td>3.0</td>\n",
       "      <td>2.0</td>\n",
       "      <td>0.0</td>\n",
       "      <td>1.0</td>\n",
       "      <td>4.0</td>\n",
       "      <td>4.0</td>\n",
       "      <td>5.0</td>\n",
       "      <td>4.0</td>\n",
       "      <td>5.0</td>\n",
       "    </tr>\n",
       "    <tr>\n",
       "      <th>bola</th>\n",
       "      <td>3.0</td>\n",
       "      <td>2.0</td>\n",
       "      <td>1.0</td>\n",
       "      <td>0.0</td>\n",
       "      <td>4.0</td>\n",
       "      <td>4.0</td>\n",
       "      <td>5.0</td>\n",
       "      <td>4.0</td>\n",
       "      <td>5.0</td>\n",
       "    </tr>\n",
       "    <tr>\n",
       "      <th>de</th>\n",
       "      <td>3.0</td>\n",
       "      <td>3.0</td>\n",
       "      <td>4.0</td>\n",
       "      <td>4.0</td>\n",
       "      <td>0.0</td>\n",
       "      <td>4.0</td>\n",
       "      <td>5.0</td>\n",
       "      <td>5.0</td>\n",
       "      <td>5.0</td>\n",
       "    </tr>\n",
       "    <tr>\n",
       "      <th>amor</th>\n",
       "      <td>4.0</td>\n",
       "      <td>3.0</td>\n",
       "      <td>4.0</td>\n",
       "      <td>4.0</td>\n",
       "      <td>4.0</td>\n",
       "      <td>0.0</td>\n",
       "      <td>3.0</td>\n",
       "      <td>5.0</td>\n",
       "      <td>3.0</td>\n",
       "    </tr>\n",
       "    <tr>\n",
       "      <th>gatos</th>\n",
       "      <td>4.0</td>\n",
       "      <td>4.0</td>\n",
       "      <td>5.0</td>\n",
       "      <td>5.0</td>\n",
       "      <td>5.0</td>\n",
       "      <td>3.0</td>\n",
       "      <td>0.0</td>\n",
       "      <td>4.0</td>\n",
       "      <td>1.0</td>\n",
       "    </tr>\n",
       "    <tr>\n",
       "      <th>niñas</th>\n",
       "      <td>4.0</td>\n",
       "      <td>5.0</td>\n",
       "      <td>4.0</td>\n",
       "      <td>4.0</td>\n",
       "      <td>5.0</td>\n",
       "      <td>5.0</td>\n",
       "      <td>4.0</td>\n",
       "      <td>0.0</td>\n",
       "      <td>4.0</td>\n",
       "    </tr>\n",
       "    <tr>\n",
       "      <th>ratos</th>\n",
       "      <td>4.0</td>\n",
       "      <td>4.0</td>\n",
       "      <td>5.0</td>\n",
       "      <td>5.0</td>\n",
       "      <td>5.0</td>\n",
       "      <td>3.0</td>\n",
       "      <td>1.0</td>\n",
       "      <td>4.0</td>\n",
       "      <td>0.0</td>\n",
       "    </tr>\n",
       "  </tbody>\n",
       "</table>\n",
       "</div>"
      ],
      "text/plain": [
       "       sal  sol  hola  bola   de  amor  gatos  niñas  ratos\n",
       "sal    0.0  1.0   3.0   3.0  3.0   4.0    4.0    4.0    4.0\n",
       "sol    1.0  0.0   2.0   2.0  3.0   3.0    4.0    5.0    4.0\n",
       "hola   3.0  2.0   0.0   1.0  4.0   4.0    5.0    4.0    5.0\n",
       "bola   3.0  2.0   1.0   0.0  4.0   4.0    5.0    4.0    5.0\n",
       "de     3.0  3.0   4.0   4.0  0.0   4.0    5.0    5.0    5.0\n",
       "amor   4.0  3.0   4.0   4.0  4.0   0.0    3.0    5.0    3.0\n",
       "gatos  4.0  4.0   5.0   5.0  5.0   3.0    0.0    4.0    1.0\n",
       "niñas  4.0  5.0   4.0   4.0  5.0   5.0    4.0    0.0    4.0\n",
       "ratos  4.0  4.0   5.0   5.0  5.0   3.0    1.0    4.0    0.0"
      ]
     },
     "execution_count": 4,
     "metadata": {},
     "output_type": "execute_result"
    }
   ],
   "source": [
    "words = ['sal', 'sol', 'hola', 'bola', 'de', 'amor', 'gatos', 'niñas', 'ratos']\n",
    "\n",
    "#Calculo de la distancia de métricas entre palabras\n",
    "metric = np.zeros((len(words), len(words)))\n",
    "for i, word1 in enumerate(words):\n",
    "    for j, word2 in enumerate(words):\n",
    "        dist = lev(word1,word2)\n",
    "        metric[i,j] = dist\n",
    "        \n",
    "        \n",
    "pd.DataFrame(data=metric, index=words, columns=words)"
   ]
  },
  {
   "cell_type": "markdown",
   "id": "ee001c6c",
   "metadata": {},
   "source": [
    "Con esta matriz de distancias, podemos aplicar el método de Escalamiento Multidimensional y proyectar las palabras en un espacio de dos dimensiones. Como se observa, las palabras que tienen una similitud en sus símbolos están cercanas, pues es esta propiedad la que resalta la distancia de Levenshtein."
   ]
  },
  {
   "cell_type": "code",
   "execution_count": 5,
   "id": "cc7293b0",
   "metadata": {},
   "outputs": [
    {
     "data": {
      "image/png": "[encoded data removed]",
      "text/plain": [
       "<Figure size 432x288 with 1 Axes>"
      ]
     },
     "metadata": {
      "needs_background": "light"
     },
     "output_type": "display_data"
    }
   ],
   "source": [
    "mds_model = MDS(n_components=2, dissimilarity='precomputed')\n",
    "X_red = mds_model.fit_transform(metric)\n",
    "\n",
    "plot_words(X_red, words)\n",
    "plt.title('Espacio de cadenas con base en métrica de Levenshtein')\n",
    "plt.xlabel('x')\n",
    "plt.ylabel('y')\n",
    "plt.show()"
   ]
  },
  {
   "cell_type": "code",
   "execution_count": 6,
   "id": "75319303",
   "metadata": {},
   "outputs": [],
   "source": [
    "#pd.DataFrame(data=X_red, index=words, columns=['x','y'])"
   ]
  },
  {
   "cell_type": "markdown",
   "id": "bab76ff8",
   "metadata": {},
   "source": [
    "Puede consultarse la bibliografía:\n",
    "\n",
    "* Levenshtein, V. I. (1966, February). \"Binary codes capable of correcting deletions, insertions, and reversals\". In Soviet physics doklady.\n",
    "* Navarro, Gonzalo (2001). \"A guided tour to approximate string matching\". ACM Computing Surveys. 33 (1): 31–88.\n",
    "* Wagner–Fischer algorithm. Wikipedia."
   ]
  }
 ],
 "metadata": {
  "kernelspec": {
   "display_name": "Python 3",
   "language": "python",
   "name": "python3"
  },
  "language_info": {
   "codemirror_mode": {
    "name": "ipython",
    "version": 3
   },
   "file_extension": ".py",
   "mimetype": "text/x-python",
   "name": "python",
   "nbconvert_exporter": "python",
   "pygments_lexer": "ipython3",
   "version": "3.8.8"
  }
 },
 "nbformat": 4,
 "nbformat_minor": 5
}
