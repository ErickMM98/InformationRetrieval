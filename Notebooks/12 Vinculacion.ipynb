{
  "nbformat": 4,
  "nbformat_minor": 0,
  "metadata": {
    "colab": {
      "name": "12 Vinculacion.ipynb",
      "provenance": [],
      "collapsed_sections": []
    },
    "kernelspec": {
      "name": "python3",
      "display_name": "Python 3"
    },
    "language_info": {
      "name": "python"
    }
  },
  "cells": [
    {
      "cell_type": "markdown",
      "source": [
        "# Vinculación de términos\n",
        "\n",
        "La vinculación de términos es un proceso que identifica similitudes entre dos términos que pueden ayudar a relacionarlos dentro de una búsqueda.\n",
        "\n",
        "La vinculación, generalmente, responde a aspectos semánticos de los términos. Por ejemplo, se pueden vincular sinónimos, hiperónimos, etc. Por tanto, la computadora debe tener información acerca de características del significado de palabras.\n",
        "\n",
        "Aquí proponemos tres formas de vinculación:\n",
        "\n",
        "* Vinculación de Lin\n",
        "* Vinculación por precisión media\n",
        "* Vinculación dirigida\n",
        "\n",
        "Usamos información obtenida del lexicón <b>WordNet</b> (<u>https://wordnet.princeton.edu/</u>) para obtener rasgos semánticos de los términos."
      ],
      "metadata": {
        "id": "G7UFfqCpj314"
      }
    },
    {
      "cell_type": "code",
      "execution_count": 1,
      "metadata": {
        "colab": {
          "base_uri": "https://localhost:8080/"
        },
        "id": "xYiCMQi6Rdzg",
        "outputId": "6d1719bc-85c0-49dc-84d9-47eed895793f"
      },
      "outputs": [
        {
          "output_type": "stream",
          "name": "stdout",
          "text": [
            "[nltk_data] Downloading package wordnet to /root/nltk_data...\n",
            "[nltk_data]   Unzipping corpora/wordnet.zip.\n"
          ]
        },
        {
          "output_type": "execute_result",
          "data": {
            "text/plain": [
              "True"
            ]
          },
          "metadata": {},
          "execution_count": 1
        }
      ],
      "source": [
        "import numpy as np\n",
        "import nltk\n",
        "from nltk.corpus import wordnet\n",
        "from itertools import chain\n",
        "\n",
        "nltk.download('wordnet')"
      ]
    },
    {
      "cell_type": "markdown",
      "source": [
        "## Vinculación de Lin\n",
        "\n",
        "En base a los rasgos que pueden obtenerse de este lexicón, la vinculación de LIN estima la similitud entre dos términos en base a la siguiente formulación:\n",
        "\n",
        "$$LIN(w,u) = \\frac{common(w,u)}{union(w,u)}$$\n",
        "\n",
        "Donde $common$ refiere a la intersección de rasgos y $union$ a la unión del conjunto de rasgos en ambos términos.\n",
        "\n",
        "Una versión logarítmica de la vinculación de LIN esta determinada como:\n",
        "\n",
        "$$LIN(w,u) = \\frac{\\log_2 common(w,u)}{\\log_2 difference(w,u)}$$\n",
        "\n",
        "Donde $difference$ hace referencia a los rasgos diferenciales de ambos términos."
      ],
      "metadata": {
        "id": "TpaqgOi7zS-Z"
      }
    },
    {
      "cell_type": "code",
      "source": [
        "def log2(x):\n",
        "  \"\"\"\n",
        "  Función para regresar logaritmo en base 2.\n",
        "  Considera el log(0) como 0\n",
        "  \"\"\"\n",
        "  if x > 0:\n",
        "    return np.log2(x)\n",
        "  else:\n",
        "    return 0\n",
        "\n",
        "#Función para extraer los rasgos de los términos\n",
        "features = lambda term: set(chain(*[w.lemma_names() for w in wordnet.synset(term + '.n.01').hypernyms()]))\n",
        "#Función de intersección de rasgos entre dos términos\n",
        "common = lambda t1,t2: features(t1).intersection(features(t2))\n",
        "#Función de diferencia de rasgos entre dos términos>\n",
        "description = lambda t1,t2: features(t1).difference(features(t2))\n",
        "\n",
        "def LIN(t1,t2,log=False):\n",
        "  \"\"\"\n",
        "  Función para calcular la vinculación de LIN.\n",
        "\n",
        "  Arguments\n",
        "  ---------\n",
        "  t1, t2 : str\n",
        "    Términos que se van a vincular entre sí\n",
        "  log : bool\n",
        "    Indica si el calculo se hará con valores logarítmicos o no\n",
        "\n",
        "  Returns\n",
        "  -------\n",
        "    Valor de vinculación en base a Lin\n",
        "  \"\"\"\n",
        "  #Calcula rasgos en común\n",
        "  p_comm = len(common(t1,t2))\n",
        "  #Calcula rasgos diferenciales\n",
        "  p_desc = len(description(t1,t2))\n",
        "\n",
        "  #Regresa el calculo de Lin\n",
        "  #en diferentes circunstancias\n",
        "  if log:\n",
        "    if log2(p_desc) == 0:\n",
        "      return log2(p_comm)\n",
        "    else:\n",
        "      return log2(p_comm)/log2(p_desc)\n",
        "  else:\n",
        "    return p_comm/(len(features(t1))+len(features(t2)))"
      ],
      "metadata": {
        "id": "GB8GerTZRkWD"
      },
      "execution_count": 2,
      "outputs": []
    },
    {
      "cell_type": "code",
      "source": [
        "#Ejemplos de vinculación\n",
        "print(LIN('domestic_cat','car'))\n",
        "print(LIN('domestic_cat','domestic_dog'))\n",
        "print(LIN('domestic_cat','Felis_domesticus'))"
      ],
      "metadata": {
        "colab": {
          "base_uri": "https://localhost:8080/"
        },
        "id": "L9mYqIiFgtza",
        "outputId": "79e3947a-4a22-4189-adb0-404bb0cf39dc"
      },
      "execution_count": null,
      "outputs": [
        {
          "output_type": "stream",
          "name": "stdout",
          "text": [
            "0.0\n",
            "0.25\n",
            "0.5\n"
          ]
        }
      ]
    },
    {
      "cell_type": "markdown",
      "source": [
        "## Vinculación por precisión media\n",
        "\n",
        "La vinculación de términos por precisión media es una forma de estimar una vinculación dirigida (jerárquica) que se basa en una función de precisión:\n",
        "\n",
        "$$P(r;w,u) = \\frac{|\\{\\phi_i : w_i \\cap u_i, i=1,...,r\\}|}{r}$$\n",
        "\n",
        "Además, se define una función de relevancia sobre los rasgos:\n",
        "\n",
        "$$rel'(\\phi) = \\begin{cases} 1-\\frac{rank(\\phi,w)}{|w|+1} & \\text{ si } \\phi\\in w \\\\ 0 & \\text{ en otro cas} \\end{cases}$$\n",
        "\n",
        "Finalmente, la precisión media se determina como:\n",
        "\n",
        "$$APinc(w\\to u) = \\frac{1}{|w|}\\sum_r P(r;w,u) rel'(\\phi_r(w))$$"
      ],
      "metadata": {
        "id": "5SorV1bbzdu_"
      }
    },
    {
      "cell_type": "code",
      "source": [
        "def relevance(feature, term, rank=True):\n",
        "  \"\"\"\n",
        "  Función de relación para rasgos.\n",
        "\n",
        "  Arguments\n",
        "  ---------\n",
        "  feature : str\n",
        "    Rasgo que se va a considerar\n",
        "  term : str\n",
        "    Término dentro del cual se va a buscar el rasgo\n",
        "\n",
        "  Returns\n",
        "  -------\n",
        "    Valor de relación del rasgo en el término\n",
        "  \"\"\"\n",
        "  feats = features(term)\n",
        "  if rank:\n",
        "    if feature in feats:\n",
        "      rank = [r+1 for r,f in enumerate(feats) if f == feature][0]/len(feats)\n",
        "      return 1 - (rank/(len(feats)+1))\n",
        "    else:\n",
        "      return 0\n",
        "  else:\n",
        "    return 1*(feature in feats)\n",
        "\n",
        "def precision(t_parent, t_child, r):\n",
        "  \"\"\"\n",
        "  Función para calcular valores de precision entre términos.\n",
        "\n",
        "  Arguments\n",
        "  ---------\n",
        "  t_parent : str\n",
        "    Término considerado candidato a padre del segundo término\n",
        "  t_child : str\n",
        "    Término considerado candidato a hijo del otro término\n",
        "  r : int\n",
        "    Valor de los features más relevantes de término padre\n",
        "\n",
        "  Returns\n",
        "  -------\n",
        "  Valor de precisión entre ambos términos\n",
        "  \"\"\"\n",
        "  #Features en común\n",
        "  feat_parent = list(features(t_parent))[:r]\n",
        "  comm = set(feat_parent).intersection(features(t_child))\n",
        "  #Valor calculado\n",
        "  p = len(comm)/r\n",
        "\n",
        "  return p\n",
        "\n",
        "def APinc(parent, child):\n",
        "  \"\"\"\n",
        "  Función para calcular la vinculación de precisión media APinc.\n",
        "\n",
        "  Arguments\n",
        "  --------\n",
        "  parent : str\n",
        "    Término considerado candidato a padre del segundo término\n",
        "  child : str\n",
        "    Término considerado candidato a hijo del otro término\n",
        "\n",
        "  Returns\n",
        "  -------\n",
        "  Valor de vinculación de precisión media\n",
        "  \"\"\"\n",
        "  #Almacena el valor APinc\n",
        "  mean_prec = 0\n",
        "  #Corre en número de features\n",
        "  i = 1\n",
        "  for feature in features(parent):\n",
        "    #Calcula la precisión media\n",
        "    mean_prec += precision(parent,child,i)*relevance(feature,parent)\n",
        "    #Avanza a la siguiente feature\n",
        "    i += 1\n",
        "\n",
        "  return mean_prec/i"
      ],
      "metadata": {
        "id": "nLcdi4RWhB-w"
      },
      "execution_count": 3,
      "outputs": []
    },
    {
      "cell_type": "code",
      "source": [
        "print(APinc('domestic_dog','domestic_cat'))\n",
        "print(APinc('Felis_domesticus', 'domestic_cat'))\n",
        "print(APinc('Felis_domesticus','car'))"
      ],
      "metadata": {
        "colab": {
          "base_uri": "https://localhost:8080/"
        },
        "id": "7K-pahaAlbP_",
        "outputId": "a5388ebe-fed8-44b3-bed2-8930d2cf0aff"
      },
      "execution_count": 4,
      "outputs": [
        {
          "output_type": "stream",
          "name": "stdout",
          "text": [
            "0.22666666666666666\n",
            "0.7\n",
            "0.0\n"
          ]
        }
      ]
    },
    {
      "cell_type": "markdown",
      "source": [
        "## Vinculación dirigida\n",
        "\n",
        "Una versión de la vinculación dirigida que pondera el $APinc$ con la vinculación de Lin se define como:\n",
        "\n",
        "$$balAPinc(w\\to u) = \\sqrt{LIN(w,u) APinc(w \\to u)}$$"
      ],
      "metadata": {
        "id": "S2HPJAkEzZ9e"
      }
    },
    {
      "cell_type": "code",
      "source": [
        "def balAPinc(t1,t2, log=False):\n",
        "  \"\"\"\n",
        "  Función para calcular el valor del balance APinc.\n",
        "\n",
        "  Arguments\n",
        "  ---------\n",
        "  t1, t2 : str\n",
        "    Términos para vincular\n",
        "  log : bool\n",
        "    Indica si la medida de LIN usará valores logarítmicos\n",
        "\n",
        "  Returns\n",
        "  -------\n",
        "    Valor de balAPinc que vincula ambos términos\n",
        "  \"\"\"\n",
        "  #Calcula Lin\n",
        "  lin = LIN(t1,t2,log=log)\n",
        "  #Calcula APinc\n",
        "  apinc = APinc(t1,t2)\n",
        "\n",
        "  return np.sqrt(lin*apinc)"
      ],
      "metadata": {
        "id": "y7b29S-8mftL"
      },
      "execution_count": 5,
      "outputs": []
    },
    {
      "cell_type": "code",
      "source": [
        "print(balAPinc('domestic_cat','domestic_dog'))\n",
        "print(balAPinc('domestic_cat','Felis_domesticus'))\n",
        "print(balAPinc('Felis_domesticus','car'))"
      ],
      "metadata": {
        "colab": {
          "base_uri": "https://localhost:8080/"
        },
        "id": "GfKDtxnlm4A9",
        "outputId": "edb48086-8c33-43e5-9609-e79cf456e7d0"
      },
      "execution_count": 6,
      "outputs": [
        {
          "output_type": "stream",
          "name": "stdout",
          "text": [
            "0.1848422751068236\n",
            "0.5916079783099616\n",
            "0.0\n"
          ]
        }
      ]
    }
  ]
}